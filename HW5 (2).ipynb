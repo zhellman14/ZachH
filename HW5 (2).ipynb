{
  "metadata": {
    "kernelspec": {
      "display_name": "R",
      "language": "R",
      "name": "ir"
    },
    "language_info": {
      "codemirror_mode": "r",
      "file_extension": ".r",
      "mimetype": "text/x-r-source",
      "name": "R",
      "pygments_lexer": "r",
      "version": "4.5.1"
    },
    "colab": {
      "provenance": []
    }
  },
  "nbformat_minor": 5,
  "nbformat": 4,
  "cells": [
    {
      "id": "e0652343-258a-44bc-9d32-7a5522ecebc4",
      "cell_type": "code",
      "source": [
        "library(tidyverse)\n",
        "install.packages(\"Rtsne\")"
      ],
      "metadata": {
        "trusted": true,
        "colab": {
          "base_uri": "https://localhost:8080/"
        },
        "id": "e0652343-258a-44bc-9d32-7a5522ecebc4",
        "outputId": "13c0a2e9-24a2-497c-b94d-87faf64b1f03"
      },
      "outputs": [
        {
          "output_type": "stream",
          "name": "stderr",
          "text": [
            "── \u001b[1mAttaching core tidyverse packages\u001b[22m ──────────────────────── tidyverse 2.0.0 ──\n",
            "\u001b[32m✔\u001b[39m \u001b[34mdplyr    \u001b[39m 1.1.4     \u001b[32m✔\u001b[39m \u001b[34mreadr    \u001b[39m 2.1.5\n",
            "\u001b[32m✔\u001b[39m \u001b[34mforcats  \u001b[39m 1.0.0     \u001b[32m✔\u001b[39m \u001b[34mstringr  \u001b[39m 1.5.2\n",
            "\u001b[32m✔\u001b[39m \u001b[34mggplot2  \u001b[39m 4.0.0     \u001b[32m✔\u001b[39m \u001b[34mtibble   \u001b[39m 3.3.0\n",
            "\u001b[32m✔\u001b[39m \u001b[34mlubridate\u001b[39m 1.9.4     \u001b[32m✔\u001b[39m \u001b[34mtidyr    \u001b[39m 1.3.1\n",
            "\u001b[32m✔\u001b[39m \u001b[34mpurrr    \u001b[39m 1.1.0     \n",
            "── \u001b[1mConflicts\u001b[22m ────────────────────────────────────────── tidyverse_conflicts() ──\n",
            "\u001b[31m✖\u001b[39m \u001b[34mdplyr\u001b[39m::\u001b[32mfilter()\u001b[39m masks \u001b[34mstats\u001b[39m::filter()\n",
            "\u001b[31m✖\u001b[39m \u001b[34mdplyr\u001b[39m::\u001b[32mlag()\u001b[39m    masks \u001b[34mstats\u001b[39m::lag()\n",
            "\u001b[36mℹ\u001b[39m Use the conflicted package (\u001b[3m\u001b[34m<http://conflicted.r-lib.org/>\u001b[39m\u001b[23m) to force all conflicts to become errors\n",
            "Installing package into ‘/usr/local/lib/R/site-library’\n",
            "(as ‘lib’ is unspecified)\n",
            "\n"
          ]
        }
      ],
      "execution_count": null
    },
    {
      "id": "3df406c3-ec2b-4a18-802e-ad8c37ad6a4a",
      "cell_type": "markdown",
      "source": [
        "# Question 1"
      ],
      "metadata": {
        "id": "3df406c3-ec2b-4a18-802e-ad8c37ad6a4a"
      }
    },
    {
      "cell_type": "markdown",
      "source": [
        "a)"
      ],
      "metadata": {
        "id": "NRKQgju5NWVr"
      },
      "id": "NRKQgju5NWVr"
    },
    {
      "cell_type": "code",
      "source": [
        "wine_data <- read.csv(\"wine.csv\")"
      ],
      "metadata": {
        "id": "CHrTk3w_NX7R"
      },
      "id": "CHrTk3w_NX7R",
      "execution_count": null,
      "outputs": []
    },
    {
      "cell_type": "markdown",
      "source": [
        "b)"
      ],
      "metadata": {
        "id": "2ET-v72xxXUA"
      },
      "id": "2ET-v72xxXUA"
    },
    {
      "cell_type": "code",
      "source": [
        "summary(wine_data)"
      ],
      "metadata": {
        "colab": {
          "base_uri": "https://localhost:8080/",
          "height": 503
        },
        "id": "otDQSicyxfzk",
        "outputId": "fb87ea58-8c47-476d-acb0-96f08d8507e7"
      },
      "id": "otDQSicyxfzk",
      "execution_count": null,
      "outputs": [
        {
          "output_type": "display_data",
          "data": {
            "text/plain": [
              "    Alcohol        Malicacid          Ash        Alcalinity_of_ash\n",
              " Min.   :11.03   Min.   :0.740   Min.   :1.360   Min.   :10.60    \n",
              " 1st Qu.:12.36   1st Qu.:1.603   1st Qu.:2.210   1st Qu.:17.20    \n",
              " Median :13.05   Median :1.865   Median :2.360   Median :19.50    \n",
              " Mean   :13.00   Mean   :2.336   Mean   :2.367   Mean   :19.49    \n",
              " 3rd Qu.:13.68   3rd Qu.:3.083   3rd Qu.:2.558   3rd Qu.:21.50    \n",
              " Max.   :14.83   Max.   :5.800   Max.   :3.230   Max.   :30.00    \n",
              "   Magnesium      Total_phenols     Flavanoids    Nonflavanoid_phenols\n",
              " Min.   : 70.00   Min.   :0.980   Min.   :0.340   Min.   :0.1300      \n",
              " 1st Qu.: 88.00   1st Qu.:1.742   1st Qu.:1.205   1st Qu.:0.2700      \n",
              " Median : 98.00   Median :2.355   Median :2.135   Median :0.3400      \n",
              " Mean   : 99.74   Mean   :2.295   Mean   :2.029   Mean   :0.3619      \n",
              " 3rd Qu.:107.00   3rd Qu.:2.800   3rd Qu.:2.875   3rd Qu.:0.4375      \n",
              " Max.   :162.00   Max.   :3.880   Max.   :5.080   Max.   :0.6600      \n",
              " Proanthocyanins Color_intensity       Hue        \n",
              " Min.   :0.410   Min.   : 1.280   Min.   :0.4800  \n",
              " 1st Qu.:1.250   1st Qu.: 3.220   1st Qu.:0.7825  \n",
              " Median :1.555   Median : 4.690   Median :0.9650  \n",
              " Mean   :1.591   Mean   : 5.058   Mean   :0.9574  \n",
              " 3rd Qu.:1.950   3rd Qu.: 6.200   3rd Qu.:1.1200  \n",
              " Max.   :3.580   Max.   :13.000   Max.   :1.7100  \n",
              " X0D280_0D315_of_diluted_wines    Proline           class      \n",
              " Min.   :1.270                 Min.   : 278.0   Min.   :1.000  \n",
              " 1st Qu.:1.938                 1st Qu.: 500.5   1st Qu.:1.000  \n",
              " Median :2.780                 Median : 673.5   Median :2.000  \n",
              " Mean   :2.612                 Mean   : 746.9   Mean   :1.938  \n",
              " 3rd Qu.:3.170                 3rd Qu.: 985.0   3rd Qu.:3.000  \n",
              " Max.   :4.000                 Max.   :1680.0   Max.   :3.000  "
            ]
          },
          "metadata": {}
        }
      ]
    },
    {
      "cell_type": "markdown",
      "source": [
        "c)"
      ],
      "metadata": {
        "id": "P5rlf0nOywqN"
      },
      "id": "P5rlf0nOywqN"
    },
    {
      "cell_type": "code",
      "source": [
        "wine_data |> select(where(is.numeric)) |> summary()"
      ],
      "metadata": {
        "colab": {
          "base_uri": "https://localhost:8080/",
          "height": 503
        },
        "id": "rmJpbbb2yzSn",
        "outputId": "29fa46f9-484d-45cc-b2c0-06f483add1cc"
      },
      "id": "rmJpbbb2yzSn",
      "execution_count": null,
      "outputs": [
        {
          "output_type": "display_data",
          "data": {
            "text/plain": [
              "    Alcohol        Malicacid          Ash        Alcalinity_of_ash\n",
              " Min.   :11.03   Min.   :0.740   Min.   :1.360   Min.   :10.60    \n",
              " 1st Qu.:12.36   1st Qu.:1.603   1st Qu.:2.210   1st Qu.:17.20    \n",
              " Median :13.05   Median :1.865   Median :2.360   Median :19.50    \n",
              " Mean   :13.00   Mean   :2.336   Mean   :2.367   Mean   :19.49    \n",
              " 3rd Qu.:13.68   3rd Qu.:3.083   3rd Qu.:2.558   3rd Qu.:21.50    \n",
              " Max.   :14.83   Max.   :5.800   Max.   :3.230   Max.   :30.00    \n",
              "   Magnesium      Total_phenols     Flavanoids    Nonflavanoid_phenols\n",
              " Min.   : 70.00   Min.   :0.980   Min.   :0.340   Min.   :0.1300      \n",
              " 1st Qu.: 88.00   1st Qu.:1.742   1st Qu.:1.205   1st Qu.:0.2700      \n",
              " Median : 98.00   Median :2.355   Median :2.135   Median :0.3400      \n",
              " Mean   : 99.74   Mean   :2.295   Mean   :2.029   Mean   :0.3619      \n",
              " 3rd Qu.:107.00   3rd Qu.:2.800   3rd Qu.:2.875   3rd Qu.:0.4375      \n",
              " Max.   :162.00   Max.   :3.880   Max.   :5.080   Max.   :0.6600      \n",
              " Proanthocyanins Color_intensity       Hue        \n",
              " Min.   :0.410   Min.   : 1.280   Min.   :0.4800  \n",
              " 1st Qu.:1.250   1st Qu.: 3.220   1st Qu.:0.7825  \n",
              " Median :1.555   Median : 4.690   Median :0.9650  \n",
              " Mean   :1.591   Mean   : 5.058   Mean   :0.9574  \n",
              " 3rd Qu.:1.950   3rd Qu.: 6.200   3rd Qu.:1.1200  \n",
              " Max.   :3.580   Max.   :13.000   Max.   :1.7100  \n",
              " X0D280_0D315_of_diluted_wines    Proline           class      \n",
              " Min.   :1.270                 Min.   : 278.0   Min.   :1.000  \n",
              " 1st Qu.:1.938                 1st Qu.: 500.5   1st Qu.:1.000  \n",
              " Median :2.780                 Median : 673.5   Median :2.000  \n",
              " Mean   :2.612                 Mean   : 746.9   Mean   :1.938  \n",
              " 3rd Qu.:3.170                 3rd Qu.: 985.0   3rd Qu.:3.000  \n",
              " Max.   :4.000                 Max.   :1680.0   Max.   :3.000  "
            ]
          },
          "metadata": {}
        }
      ]
    },
    {
      "cell_type": "markdown",
      "source": [
        "# Question 2"
      ],
      "metadata": {
        "id": "G7XcDp2BzDRV"
      },
      "id": "G7XcDp2BzDRV"
    },
    {
      "cell_type": "markdown",
      "source": [
        "a)"
      ],
      "metadata": {
        "id": "uYpK8NfozGJI"
      },
      "id": "uYpK8NfozGJI"
    },
    {
      "cell_type": "code",
      "source": [
        "wine_scaled <- wine_data |>\n",
        "  mutate(across(!class, ~ as.numeric(scale(.))))"
      ],
      "metadata": {
        "id": "DGk5XDLXzIAA"
      },
      "id": "DGk5XDLXzIAA",
      "execution_count": null,
      "outputs": []
    },
    {
      "cell_type": "markdown",
      "source": [
        "b)"
      ],
      "metadata": {
        "id": "lBvnXmC1zrGD"
      },
      "id": "lBvnXmC1zrGD"
    },
    {
      "cell_type": "markdown",
      "source": [
        "It is important to scale and center the data because the variables are measuring completely different things (e.g., alcohol % and color intensity). Without scaling, the variables will not all contribute equally to the PCA."
      ],
      "metadata": {
        "id": "03tOW7HyzsZU"
      },
      "id": "03tOW7HyzsZU"
    },
    {
      "cell_type": "markdown",
      "source": [
        "# Question 3"
      ],
      "metadata": {
        "id": "JuCJRSzE0dq9"
      },
      "id": "JuCJRSzE0dq9"
    },
    {
      "cell_type": "markdown",
      "source": [
        "a)"
      ],
      "metadata": {
        "id": "ZMIXCqYi0hNS"
      },
      "id": "ZMIXCqYi0hNS"
    },
    {
      "cell_type": "code",
      "source": [
        "wine_pca <- prcomp(wine_scaled |> select(-class), center = TRUE, scale. = TRUE)"
      ],
      "metadata": {
        "id": "YbGA7WJe0iQJ"
      },
      "id": "YbGA7WJe0iQJ",
      "execution_count": null,
      "outputs": []
    },
    {
      "cell_type": "markdown",
      "source": [
        "b)"
      ],
      "metadata": {
        "id": "d1UOHHmJ0u6j"
      },
      "id": "d1UOHHmJ0u6j"
    },
    {
      "cell_type": "code",
      "source": [
        "summary(wine_pca)"
      ],
      "metadata": {
        "colab": {
          "base_uri": "https://localhost:8080/",
          "height": 173
        },
        "id": "5VGjpik20wET",
        "outputId": "b90072b2-38e6-43f0-ac95-457603741986"
      },
      "id": "5VGjpik20wET",
      "execution_count": null,
      "outputs": [
        {
          "output_type": "display_data",
          "data": {
            "text/plain": [
              "Importance of components:\n",
              "                         PC1    PC2    PC3     PC4     PC5     PC6     PC7\n",
              "Standard deviation     2.169 1.5802 1.2025 0.95863 0.92370 0.80103 0.74231\n",
              "Proportion of Variance 0.362 0.1921 0.1112 0.07069 0.06563 0.04936 0.04239\n",
              "Cumulative Proportion  0.362 0.5541 0.6653 0.73599 0.80162 0.85098 0.89337\n",
              "                           PC8     PC9   PC10    PC11    PC12    PC13\n",
              "Standard deviation     0.59034 0.53748 0.5009 0.47517 0.41082 0.32152\n",
              "Proportion of Variance 0.02681 0.02222 0.0193 0.01737 0.01298 0.00795\n",
              "Cumulative Proportion  0.92018 0.94240 0.9617 0.97907 0.99205 1.00000"
            ]
          },
          "metadata": {}
        }
      ]
    },
    {
      "cell_type": "markdown",
      "source": [
        "The proportion of variance in PC1 of 0.362 and the proportion of variance of PC2 0.1921"
      ],
      "metadata": {
        "id": "as7KtKVG1Fy5"
      },
      "id": "as7KtKVG1Fy5"
    },
    {
      "cell_type": "markdown",
      "source": [
        "c)"
      ],
      "metadata": {
        "id": "JeHRS_YD1WeE"
      },
      "id": "JeHRS_YD1WeE"
    },
    {
      "cell_type": "markdown",
      "source": [
        "PCA keeps the most variance, making visualization easier. In a PCA, we can automatically find the axis of maximal variation corresponding to the true degrees of freedom of the underlying system."
      ],
      "metadata": {
        "id": "4jowgy4R4uip"
      },
      "id": "4jowgy4R4uip"
    },
    {
      "cell_type": "markdown",
      "source": [
        "d)"
      ],
      "metadata": {
        "id": "6FehRp-44rVj"
      },
      "id": "6FehRp-44rVj"
    },
    {
      "cell_type": "code",
      "source": [
        "wine_pca$rotation"
      ],
      "metadata": {
        "colab": {
          "base_uri": "https://localhost:8080/",
          "height": 494
        },
        "id": "MDkNg97t1YEb",
        "outputId": "4cb19075-acaf-4921-eb0e-e31203bb97fd"
      },
      "id": "MDkNg97t1YEb",
      "execution_count": null,
      "outputs": [
        {
          "output_type": "display_data",
          "data": {
            "text/html": [
              "<table class=\"dataframe\">\n",
              "<caption>A matrix: 13 × 13 of type dbl</caption>\n",
              "<thead>\n",
              "\t<tr><th></th><th scope=col>PC1</th><th scope=col>PC2</th><th scope=col>PC3</th><th scope=col>PC4</th><th scope=col>PC5</th><th scope=col>PC6</th><th scope=col>PC7</th><th scope=col>PC8</th><th scope=col>PC9</th><th scope=col>PC10</th><th scope=col>PC11</th><th scope=col>PC12</th><th scope=col>PC13</th></tr>\n",
              "</thead>\n",
              "<tbody>\n",
              "\t<tr><th scope=row>Alcohol</th><td>-0.144329395</td><td>-0.483651548</td><td>-0.20738262</td><td>-0.01785630</td><td> 0.26566365</td><td>-0.21353865</td><td>-0.05639636</td><td>-0.39613926</td><td>-0.50861912</td><td>-0.21160473</td><td> 0.22591696</td><td> 0.26628645</td><td>-0.01496997</td></tr>\n",
              "\t<tr><th scope=row>Malicacid</th><td> 0.245187580</td><td>-0.224930935</td><td> 0.08901289</td><td> 0.53689028</td><td>-0.03521363</td><td>-0.53681385</td><td> 0.42052391</td><td>-0.06582674</td><td> 0.07528304</td><td> 0.30907994</td><td>-0.07648554</td><td>-0.12169604</td><td>-0.02596375</td></tr>\n",
              "\t<tr><th scope=row>Ash</th><td> 0.002051061</td><td>-0.316068814</td><td> 0.62622390</td><td>-0.21417556</td><td> 0.14302547</td><td>-0.15447466</td><td>-0.14917061</td><td> 0.17026002</td><td> 0.30769445</td><td> 0.02712539</td><td> 0.49869142</td><td> 0.04962237</td><td> 0.14121803</td></tr>\n",
              "\t<tr><th scope=row>Alcalinity_of_ash</th><td> 0.239320405</td><td> 0.010590502</td><td> 0.61208035</td><td> 0.06085941</td><td>-0.06610294</td><td> 0.10082451</td><td>-0.28696914</td><td>-0.42797018</td><td>-0.20044931</td><td>-0.05279942</td><td>-0.47931378</td><td> 0.05574287</td><td>-0.09168285</td></tr>\n",
              "\t<tr><th scope=row>Magnesium</th><td>-0.141992042</td><td>-0.299634003</td><td> 0.13075693</td><td>-0.35179658</td><td>-0.72704851</td><td>-0.03814394</td><td> 0.32288330</td><td> 0.15636143</td><td>-0.27140257</td><td>-0.06787022</td><td>-0.07128891</td><td>-0.06222011</td><td>-0.05677422</td></tr>\n",
              "\t<tr><th scope=row>Total_phenols</th><td>-0.394660845</td><td>-0.065039512</td><td> 0.14617896</td><td> 0.19806835</td><td> 0.14931841</td><td> 0.08412230</td><td>-0.02792498</td><td> 0.40593409</td><td>-0.28603452</td><td> 0.32013135</td><td>-0.30434119</td><td> 0.30388245</td><td> 0.46390791</td></tr>\n",
              "\t<tr><th scope=row>Flavanoids</th><td>-0.422934297</td><td> 0.003359812</td><td> 0.15068190</td><td> 0.15229479</td><td> 0.10902584</td><td> 0.01892002</td><td>-0.06068521</td><td> 0.18724536</td><td>-0.04957849</td><td> 0.16315051</td><td> 0.02569409</td><td> 0.04289883</td><td>-0.83225706</td></tr>\n",
              "\t<tr><th scope=row>Nonflavanoid_phenols</th><td> 0.298533103</td><td>-0.028779488</td><td> 0.17036816</td><td>-0.20330102</td><td> 0.50070298</td><td> 0.25859401</td><td> 0.59544729</td><td> 0.23328465</td><td>-0.19550132</td><td>-0.21553507</td><td>-0.11689586</td><td>-0.04235219</td><td>-0.11403985</td></tr>\n",
              "\t<tr><th scope=row>Proanthocyanins</th><td>-0.313429488</td><td>-0.039301722</td><td> 0.14945431</td><td> 0.39905653</td><td>-0.13685982</td><td> 0.53379539</td><td> 0.37213935</td><td>-0.36822675</td><td> 0.20914487</td><td>-0.13418390</td><td> 0.23736257</td><td> 0.09555303</td><td> 0.11691707</td></tr>\n",
              "\t<tr><th scope=row>Color_intensity</th><td> 0.088616705</td><td>-0.529995672</td><td>-0.13730621</td><td> 0.06592568</td><td> 0.07643678</td><td> 0.41864414</td><td>-0.22771214</td><td> 0.03379692</td><td>-0.05621752</td><td> 0.29077518</td><td>-0.03183880</td><td>-0.60422163</td><td> 0.01199280</td></tr>\n",
              "\t<tr><th scope=row>Hue</th><td>-0.296714564</td><td> 0.279235148</td><td> 0.08522192</td><td>-0.42777141</td><td> 0.17361452</td><td>-0.10598274</td><td> 0.23207564</td><td>-0.43662362</td><td>-0.08582839</td><td> 0.52239889</td><td> 0.04821201</td><td>-0.25921400</td><td> 0.08988884</td></tr>\n",
              "\t<tr><th scope=row>X0D280_0D315_of_diluted_wines</th><td>-0.376167411</td><td> 0.164496193</td><td> 0.16600459</td><td> 0.18412074</td><td> 0.10116099</td><td>-0.26585107</td><td>-0.04476370</td><td> 0.07810789</td><td>-0.13722690</td><td>-0.52370587</td><td>-0.04642330</td><td>-0.60095872</td><td> 0.15671813</td></tr>\n",
              "\t<tr><th scope=row>Proline</th><td>-0.286752227</td><td>-0.364902832</td><td>-0.12674592</td><td>-0.23207086</td><td> 0.15786880</td><td>-0.11972557</td><td> 0.07680450</td><td>-0.12002267</td><td> 0.57578611</td><td>-0.16211600</td><td>-0.53926983</td><td> 0.07940162</td><td>-0.01444734</td></tr>\n",
              "</tbody>\n",
              "</table>\n"
            ],
            "text/markdown": "\nA matrix: 13 × 13 of type dbl\n\n| <!--/--> | PC1 | PC2 | PC3 | PC4 | PC5 | PC6 | PC7 | PC8 | PC9 | PC10 | PC11 | PC12 | PC13 |\n|---|---|---|---|---|---|---|---|---|---|---|---|---|---|\n| Alcohol | -0.144329395 | -0.483651548 | -0.20738262 | -0.01785630 |  0.26566365 | -0.21353865 | -0.05639636 | -0.39613926 | -0.50861912 | -0.21160473 |  0.22591696 |  0.26628645 | -0.01496997 |\n| Malicacid |  0.245187580 | -0.224930935 |  0.08901289 |  0.53689028 | -0.03521363 | -0.53681385 |  0.42052391 | -0.06582674 |  0.07528304 |  0.30907994 | -0.07648554 | -0.12169604 | -0.02596375 |\n| Ash |  0.002051061 | -0.316068814 |  0.62622390 | -0.21417556 |  0.14302547 | -0.15447466 | -0.14917061 |  0.17026002 |  0.30769445 |  0.02712539 |  0.49869142 |  0.04962237 |  0.14121803 |\n| Alcalinity_of_ash |  0.239320405 |  0.010590502 |  0.61208035 |  0.06085941 | -0.06610294 |  0.10082451 | -0.28696914 | -0.42797018 | -0.20044931 | -0.05279942 | -0.47931378 |  0.05574287 | -0.09168285 |\n| Magnesium | -0.141992042 | -0.299634003 |  0.13075693 | -0.35179658 | -0.72704851 | -0.03814394 |  0.32288330 |  0.15636143 | -0.27140257 | -0.06787022 | -0.07128891 | -0.06222011 | -0.05677422 |\n| Total_phenols | -0.394660845 | -0.065039512 |  0.14617896 |  0.19806835 |  0.14931841 |  0.08412230 | -0.02792498 |  0.40593409 | -0.28603452 |  0.32013135 | -0.30434119 |  0.30388245 |  0.46390791 |\n| Flavanoids | -0.422934297 |  0.003359812 |  0.15068190 |  0.15229479 |  0.10902584 |  0.01892002 | -0.06068521 |  0.18724536 | -0.04957849 |  0.16315051 |  0.02569409 |  0.04289883 | -0.83225706 |\n| Nonflavanoid_phenols |  0.298533103 | -0.028779488 |  0.17036816 | -0.20330102 |  0.50070298 |  0.25859401 |  0.59544729 |  0.23328465 | -0.19550132 | -0.21553507 | -0.11689586 | -0.04235219 | -0.11403985 |\n| Proanthocyanins | -0.313429488 | -0.039301722 |  0.14945431 |  0.39905653 | -0.13685982 |  0.53379539 |  0.37213935 | -0.36822675 |  0.20914487 | -0.13418390 |  0.23736257 |  0.09555303 |  0.11691707 |\n| Color_intensity |  0.088616705 | -0.529995672 | -0.13730621 |  0.06592568 |  0.07643678 |  0.41864414 | -0.22771214 |  0.03379692 | -0.05621752 |  0.29077518 | -0.03183880 | -0.60422163 |  0.01199280 |\n| Hue | -0.296714564 |  0.279235148 |  0.08522192 | -0.42777141 |  0.17361452 | -0.10598274 |  0.23207564 | -0.43662362 | -0.08582839 |  0.52239889 |  0.04821201 | -0.25921400 |  0.08988884 |\n| X0D280_0D315_of_diluted_wines | -0.376167411 |  0.164496193 |  0.16600459 |  0.18412074 |  0.10116099 | -0.26585107 | -0.04476370 |  0.07810789 | -0.13722690 | -0.52370587 | -0.04642330 | -0.60095872 |  0.15671813 |\n| Proline | -0.286752227 | -0.364902832 | -0.12674592 | -0.23207086 |  0.15786880 | -0.11972557 |  0.07680450 | -0.12002267 |  0.57578611 | -0.16211600 | -0.53926983 |  0.07940162 | -0.01444734 |\n\n",
            "text/latex": "A matrix: 13 × 13 of type dbl\n\\begin{tabular}{r|lllllllllllll}\n  & PC1 & PC2 & PC3 & PC4 & PC5 & PC6 & PC7 & PC8 & PC9 & PC10 & PC11 & PC12 & PC13\\\\\n\\hline\n\tAlcohol & -0.144329395 & -0.483651548 & -0.20738262 & -0.01785630 &  0.26566365 & -0.21353865 & -0.05639636 & -0.39613926 & -0.50861912 & -0.21160473 &  0.22591696 &  0.26628645 & -0.01496997\\\\\n\tMalicacid &  0.245187580 & -0.224930935 &  0.08901289 &  0.53689028 & -0.03521363 & -0.53681385 &  0.42052391 & -0.06582674 &  0.07528304 &  0.30907994 & -0.07648554 & -0.12169604 & -0.02596375\\\\\n\tAsh &  0.002051061 & -0.316068814 &  0.62622390 & -0.21417556 &  0.14302547 & -0.15447466 & -0.14917061 &  0.17026002 &  0.30769445 &  0.02712539 &  0.49869142 &  0.04962237 &  0.14121803\\\\\n\tAlcalinity\\_of\\_ash &  0.239320405 &  0.010590502 &  0.61208035 &  0.06085941 & -0.06610294 &  0.10082451 & -0.28696914 & -0.42797018 & -0.20044931 & -0.05279942 & -0.47931378 &  0.05574287 & -0.09168285\\\\\n\tMagnesium & -0.141992042 & -0.299634003 &  0.13075693 & -0.35179658 & -0.72704851 & -0.03814394 &  0.32288330 &  0.15636143 & -0.27140257 & -0.06787022 & -0.07128891 & -0.06222011 & -0.05677422\\\\\n\tTotal\\_phenols & -0.394660845 & -0.065039512 &  0.14617896 &  0.19806835 &  0.14931841 &  0.08412230 & -0.02792498 &  0.40593409 & -0.28603452 &  0.32013135 & -0.30434119 &  0.30388245 &  0.46390791\\\\\n\tFlavanoids & -0.422934297 &  0.003359812 &  0.15068190 &  0.15229479 &  0.10902584 &  0.01892002 & -0.06068521 &  0.18724536 & -0.04957849 &  0.16315051 &  0.02569409 &  0.04289883 & -0.83225706\\\\\n\tNonflavanoid\\_phenols &  0.298533103 & -0.028779488 &  0.17036816 & -0.20330102 &  0.50070298 &  0.25859401 &  0.59544729 &  0.23328465 & -0.19550132 & -0.21553507 & -0.11689586 & -0.04235219 & -0.11403985\\\\\n\tProanthocyanins & -0.313429488 & -0.039301722 &  0.14945431 &  0.39905653 & -0.13685982 &  0.53379539 &  0.37213935 & -0.36822675 &  0.20914487 & -0.13418390 &  0.23736257 &  0.09555303 &  0.11691707\\\\\n\tColor\\_intensity &  0.088616705 & -0.529995672 & -0.13730621 &  0.06592568 &  0.07643678 &  0.41864414 & -0.22771214 &  0.03379692 & -0.05621752 &  0.29077518 & -0.03183880 & -0.60422163 &  0.01199280\\\\\n\tHue & -0.296714564 &  0.279235148 &  0.08522192 & -0.42777141 &  0.17361452 & -0.10598274 &  0.23207564 & -0.43662362 & -0.08582839 &  0.52239889 &  0.04821201 & -0.25921400 &  0.08988884\\\\\n\tX0D280\\_0D315\\_of\\_diluted\\_wines & -0.376167411 &  0.164496193 &  0.16600459 &  0.18412074 &  0.10116099 & -0.26585107 & -0.04476370 &  0.07810789 & -0.13722690 & -0.52370587 & -0.04642330 & -0.60095872 &  0.15671813\\\\\n\tProline & -0.286752227 & -0.364902832 & -0.12674592 & -0.23207086 &  0.15786880 & -0.11972557 &  0.07680450 & -0.12002267 &  0.57578611 & -0.16211600 & -0.53926983 &  0.07940162 & -0.01444734\\\\\n\\end{tabular}\n",
            "text/plain": [
              "                              PC1          PC2          PC3         PC4        \n",
              "Alcohol                       -0.144329395 -0.483651548 -0.20738262 -0.01785630\n",
              "Malicacid                      0.245187580 -0.224930935  0.08901289  0.53689028\n",
              "Ash                            0.002051061 -0.316068814  0.62622390 -0.21417556\n",
              "Alcalinity_of_ash              0.239320405  0.010590502  0.61208035  0.06085941\n",
              "Magnesium                     -0.141992042 -0.299634003  0.13075693 -0.35179658\n",
              "Total_phenols                 -0.394660845 -0.065039512  0.14617896  0.19806835\n",
              "Flavanoids                    -0.422934297  0.003359812  0.15068190  0.15229479\n",
              "Nonflavanoid_phenols           0.298533103 -0.028779488  0.17036816 -0.20330102\n",
              "Proanthocyanins               -0.313429488 -0.039301722  0.14945431  0.39905653\n",
              "Color_intensity                0.088616705 -0.529995672 -0.13730621  0.06592568\n",
              "Hue                           -0.296714564  0.279235148  0.08522192 -0.42777141\n",
              "X0D280_0D315_of_diluted_wines -0.376167411  0.164496193  0.16600459  0.18412074\n",
              "Proline                       -0.286752227 -0.364902832 -0.12674592 -0.23207086\n",
              "                              PC5         PC6         PC7         PC8        \n",
              "Alcohol                        0.26566365 -0.21353865 -0.05639636 -0.39613926\n",
              "Malicacid                     -0.03521363 -0.53681385  0.42052391 -0.06582674\n",
              "Ash                            0.14302547 -0.15447466 -0.14917061  0.17026002\n",
              "Alcalinity_of_ash             -0.06610294  0.10082451 -0.28696914 -0.42797018\n",
              "Magnesium                     -0.72704851 -0.03814394  0.32288330  0.15636143\n",
              "Total_phenols                  0.14931841  0.08412230 -0.02792498  0.40593409\n",
              "Flavanoids                     0.10902584  0.01892002 -0.06068521  0.18724536\n",
              "Nonflavanoid_phenols           0.50070298  0.25859401  0.59544729  0.23328465\n",
              "Proanthocyanins               -0.13685982  0.53379539  0.37213935 -0.36822675\n",
              "Color_intensity                0.07643678  0.41864414 -0.22771214  0.03379692\n",
              "Hue                            0.17361452 -0.10598274  0.23207564 -0.43662362\n",
              "X0D280_0D315_of_diluted_wines  0.10116099 -0.26585107 -0.04476370  0.07810789\n",
              "Proline                        0.15786880 -0.11972557  0.07680450 -0.12002267\n",
              "                              PC9         PC10        PC11        PC12       \n",
              "Alcohol                       -0.50861912 -0.21160473  0.22591696  0.26628645\n",
              "Malicacid                      0.07528304  0.30907994 -0.07648554 -0.12169604\n",
              "Ash                            0.30769445  0.02712539  0.49869142  0.04962237\n",
              "Alcalinity_of_ash             -0.20044931 -0.05279942 -0.47931378  0.05574287\n",
              "Magnesium                     -0.27140257 -0.06787022 -0.07128891 -0.06222011\n",
              "Total_phenols                 -0.28603452  0.32013135 -0.30434119  0.30388245\n",
              "Flavanoids                    -0.04957849  0.16315051  0.02569409  0.04289883\n",
              "Nonflavanoid_phenols          -0.19550132 -0.21553507 -0.11689586 -0.04235219\n",
              "Proanthocyanins                0.20914487 -0.13418390  0.23736257  0.09555303\n",
              "Color_intensity               -0.05621752  0.29077518 -0.03183880 -0.60422163\n",
              "Hue                           -0.08582839  0.52239889  0.04821201 -0.25921400\n",
              "X0D280_0D315_of_diluted_wines -0.13722690 -0.52370587 -0.04642330 -0.60095872\n",
              "Proline                        0.57578611 -0.16211600 -0.53926983  0.07940162\n",
              "                              PC13       \n",
              "Alcohol                       -0.01496997\n",
              "Malicacid                     -0.02596375\n",
              "Ash                            0.14121803\n",
              "Alcalinity_of_ash             -0.09168285\n",
              "Magnesium                     -0.05677422\n",
              "Total_phenols                  0.46390791\n",
              "Flavanoids                    -0.83225706\n",
              "Nonflavanoid_phenols          -0.11403985\n",
              "Proanthocyanins                0.11691707\n",
              "Color_intensity                0.01199280\n",
              "Hue                            0.08988884\n",
              "X0D280_0D315_of_diluted_wines  0.15671813\n",
              "Proline                       -0.01444734"
            ]
          },
          "metadata": {}
        }
      ]
    },
    {
      "cell_type": "markdown",
      "source": [
        "e)"
      ],
      "metadata": {
        "id": "FgmhTW-h3ePE"
      },
      "id": "FgmhTW-h3ePE"
    },
    {
      "cell_type": "code",
      "source": [
        "Rmatrix <- as.data.frame(wine_pca$x)\n",
        "plot_df <- Rmatrix |>\n",
        "  select(PC1, PC2) |>\n",
        "  mutate(class = wine_scaled$class)\n",
        "\n",
        "print(ggplot(plot_df, aes(PC1, PC2, color = factor(class))) +\n",
        "  geom_point() +\n",
        "  coord_fixed())"
      ],
      "metadata": {
        "colab": {
          "base_uri": "https://localhost:8080/",
          "height": 437
        },
        "id": "ReJKuXn23gDg",
        "outputId": "1df2b5a7-839d-4fff-e105-23875b8a27c0"
      },
      "id": "ReJKuXn23gDg",
      "execution_count": null,
      "outputs": [
        {
          "output_type": "display_data",
          "data": {
            "text/plain": [
              "plot without title"
            ],
            "image/png": "[encoded data removed]"
          },
          "metadata": {
            "image/png": {
              "width": 420,
              "height": 420
            }
          }
        }
      ]
    },
    {
      "cell_type": "markdown",
      "source": [
        "f)"
      ],
      "metadata": {
        "id": "aWhoEoU64iGh"
      },
      "id": "aWhoEoU64iGh"
    },
    {
      "cell_type": "markdown",
      "source": [
        "The PC1 vs. PC2 plot shows three distinct clusters corresponding to the wine factors (classes). Class 1 appears on the lower/left hand side, Class 2 in the middle/top, and Class 3 on the bottom/right. This shows that PCA effectively captures the variance in the dataset such that different wines are related to their perspective class, and in this cass seperable."
      ],
      "metadata": {
        "id": "z4SL26xw5NOW"
      },
      "id": "z4SL26xw5NOW"
    },
    {
      "cell_type": "markdown",
      "source": [
        "g)"
      ],
      "metadata": {
        "id": "E8wJYqB25wiP"
      },
      "id": "E8wJYqB25wiP"
    },
    {
      "cell_type": "markdown",
      "source": [
        "When you have bad data. For example, only having one interesting degree of variation. There will be no rotation to separate the two axes, resulting in circular or nonlinear data"
      ],
      "metadata": {
        "id": "jlW29w18wEuc"
      },
      "id": "jlW29w18wEuc"
    },
    {
      "cell_type": "markdown",
      "source": [
        "h)"
      ],
      "metadata": {
        "id": "ebz1gFSRwkp7"
      },
      "id": "ebz1gFSRwkp7"
    },
    {
      "cell_type": "markdown",
      "source": [
        " A vector space is a set V along with a field F and it will have the PCA find a rotation which aligns axes of variation with the axes of our coordinate system (linear).\n",
        " A manifold is a set which has the property that it resembles a vector space locally.\n",
        " T-SNE is an approach based on the idea that the important thing to model in the reduced data set is something like the probability of two points being neighbors. T-SNE handles manifold learning better than PCA or a vector space."
      ],
      "metadata": {
        "id": "Lpyz1hLtwl2q"
      },
      "id": "Lpyz1hLtwl2q"
    },
    {
      "cell_type": "markdown",
      "source": [
        "# Question 4"
      ],
      "metadata": {
        "id": "WhXDpzmiydQK"
      },
      "id": "WhXDpzmiydQK"
    },
    {
      "cell_type": "markdown",
      "source": [
        "a)"
      ],
      "metadata": {
        "id": "kbjSVrb8yiTA"
      },
      "id": "kbjSVrb8yiTA"
    },
    {
      "cell_type": "code",
      "source": [
        "library(Rtsne)\n",
        "set.seed(123)\n",
        "\n",
        "tsne_data <- wine_pca$x[, 1:10] |>\n",
        "as.data.frame() |>\n",
        "mutate(class = wine_data$class) |>\n",
        "distinct()\n",
        "\n",
        "tsne_print <- Rtsne(tsne_data |>\n",
        "select(-class), dims = 2, perplexity = 30)"
      ],
      "metadata": {
        "id": "ap8X4XE1yNj5"
      },
      "id": "ap8X4XE1yNj5",
      "execution_count": null,
      "outputs": []
    },
    {
      "cell_type": "markdown",
      "source": [
        "b)"
      ],
      "metadata": {
        "id": "tMwpSqIdz5la"
      },
      "id": "tMwpSqIdz5la"
    },
    {
      "cell_type": "code",
      "source": [
        "tsne_df <- as.data.frame(tsne_print$Y) |>\n",
        "  rename(Dim1 = V1, Dim2 = V2) |>\n",
        "  mutate(class = tsne_data$class)\n",
        "\n",
        "ggplot(tsne_df, aes(x = Dim1, y = Dim2, color = factor(class))) +\n",
        "  geom_point() +\n",
        "  theme_minimal()"
      ],
      "metadata": {
        "colab": {
          "base_uri": "https://localhost:8080/",
          "height": 437
        },
        "id": "eGtBy8v8z8TH",
        "outputId": "ffb81991-35ac-4f9a-bf14-8cc730614240"
      },
      "id": "eGtBy8v8z8TH",
      "execution_count": null,
      "outputs": [
        {
          "output_type": "display_data",
          "data": {
            "text/plain": [
              "plot without title"
            ],
            "image/png": "[encoded data removed]"
          },
          "metadata": {
            "image/png": {
              "width": 420,
              "height": 420
            }
          }
        }
      ]
    },
    {
      "cell_type": "markdown",
      "source": [
        "c)"
      ],
      "metadata": {
        "id": "ErYS87Ro0RGT"
      },
      "id": "ErYS87Ro0RGT"
    },
    {
      "cell_type": "markdown",
      "source": [
        "PCA only captures linear variance  and T-SNE captures nonlinear relationships which can reveal clusters PCA misses."
      ],
      "metadata": {
        "id": "P0aYUrvf0WMu"
      },
      "id": "P0aYUrvf0WMu"
    },
    {
      "cell_type": "markdown",
      "source": [
        "d)"
      ],
      "metadata": {
        "id": "XWM2fiaB0c_f"
      },
      "id": "XWM2fiaB0c_f"
    },
    {
      "cell_type": "markdown",
      "source": [
        "Any data that results in circular or nonlinear structures where T-SNE will capturre anything PCA misses. For example, certain types of health data where the variables are difficult to quantify."
      ],
      "metadata": {
        "id": "wmw1uhOp04iR"
      },
      "id": "wmw1uhOp04iR"
    },
    {
      "cell_type": "markdown",
      "source": [],
      "metadata": {
        "id": "yVyra59pyLMF"
      },
      "id": "yVyra59pyLMF"
    }
  ]
}