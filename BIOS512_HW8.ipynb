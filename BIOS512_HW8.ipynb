{
 "cells": [
  {
   "cell_type": "markdown",
   "id": "77b97eda-a875-49d9-922a-aca98f18d1ea",
   "metadata": {},
   "source": [
    "# Homework 08\n",
    "This homework is based on the clustering lectures. Check the lecture notes and TA notes - they should help!"
   ]
  },
  {
   "cell_type": "markdown",
   "id": "f75ac688-c3c4-4916-a858-97104be7e273",
   "metadata": {},
   "source": [
    "## Question 1\n",
    "This question will walk you through creating your own `kmeans` function."
   ]
  },
  {
   "cell_type": "markdown",
   "id": "9eb3eefd-fd8c-4688-8b9e-e2368e56d526",
   "metadata": {},
   "source": [
    "#### a) What are the steps of `kmeans`?\n",
    "**Hint**: There are 4 steps/builder functions that you'll need."
   ]
  },
  {
   "cell_type": "markdown",
   "id": "bf8b199b-d1d9-4a55-ad95-9e86ad0655bd",
   "metadata": {},
   "source": [
    "#### b) Create the builder function for step 1."
   ]
  },
  {
   "cell_type": "markdown",
   "id": "9e44ddaf-4506-47d0-98fb-09871e08808c",
   "metadata": {},
   "source": [
    "#### c) Create the builder function for step 2."
   ]
  },
  {
   "cell_type": "markdown",
   "id": "1c8640c6-2d2f-49c3-b7ed-da0d4fb13935",
   "metadata": {},
   "source": [
    "#### d) Create the builder function for step 3.\n",
    "*Hint*: There are two ways to do this part - one is significantly more efficient than the other. You can do either.  "
   ]
  },
  {
   "cell_type": "markdown",
   "id": "2bbea660-9bd2-4dae-9a5c-838f613b0d7c",
   "metadata": {},
   "source": [
    "#### e) Create the builder function for step 4."
   ]
  },
  {
   "cell_type": "markdown",
   "id": "f3c86f61-68d2-484a-9c9c-db7f35c8e685",
   "metadata": {},
   "source": [
    "#### f) Combine them all into your own `kmeans` function."
   ]
  },
  {
   "cell_type": "markdown",
   "id": "da13180d-3a51-4218-94a0-3f362612f099",
   "metadata": {},
   "source": [
    "## Question 2\n",
    "This is when we'll test your `kmeans` function.\n",
    "#### a) Read in the `voltages_df.csv` data set. "
   ]
  },
  {
   "cell_type": "markdown",
   "id": "1f002a7b-eda1-4d2d-8ef9-3090b563708d",
   "metadata": {},
   "source": [
    "#### b) Call your `kmeans` function with 3 clusters. Print the results with `results$labels` and `results$means`. "
   ]
  },
  {
   "cell_type": "markdown",
   "id": "03d9949c-60ce-4a75-8688-e3c7485122ab",
   "metadata": {},
   "source": [
    "#### c) Call R's `kmeans` function with 3 clusters. Print the results with `results$labels` and `results$cluster`. \n",
    "*Hint*: Use the `as.matrix()` function to make the `voltages_df` data frame a matrix before calling `kmeans()`."
   ]
  },
  {
   "cell_type": "markdown",
   "id": "4944ea46-ed01-413b-8b55-d55f383413de",
   "metadata": {},
   "source": [
    "#### d) Are your labels/clusters the same? If not, why? Are your means the same?"
   ]
  },
  {
   "cell_type": "markdown",
   "id": "6228e5ce-269f-4d83-b94e-40f3c4a137cd",
   "metadata": {},
   "source": [
    "## Question 3\n",
    "#### a) Explain the process of using a for loop to assign clusters for kmeans."
   ]
  },
  {
   "cell_type": "markdown",
   "id": "2815b679-8bd1-4ec2-85d3-e42166f3e0ff",
   "metadata": {},
   "source": [
    "#### b) Explain the process of vectorizing the code to assign clusters for kmeans."
   ]
  },
  {
   "cell_type": "markdown",
   "id": "c6be7b85-c4f0-4626-b7f5-0ba921efcb6d",
   "metadata": {},
   "source": [
    "#### c) State which (for loops or vectorizing) is more efficient and why."
   ]
  },
  {
   "cell_type": "markdown",
   "id": "3d2824d8-b8b6-4746-8fdc-8b3a8a1ca49d",
   "metadata": {},
   "source": [
    "## Question 4\n",
    "#### When does `kmeans` fail? What assumption does `kmeans` use that causes it to fail in this situation?"
   ]
  },
  {
   "cell_type": "markdown",
   "id": "20c5a711-449c-48e0-b02b-8ad3346e8d38",
   "metadata": {},
   "source": [
    "## Question 5\n",
    "#### What assumption do Guassian mixture models make?"
   ]
  },
  {
   "cell_type": "markdown",
   "id": "ed1a4f52-f2d5-45d7-aeb2-a05ccab9e2fe",
   "metadata": {},
   "source": [
    "## Question 6\n",
    "#### What assumption does spectral clustering make? Why does this help us?"
   ]
  },
  {
   "cell_type": "markdown",
   "id": "ede993cf-222f-4c5b-b09e-bc2c988a777e",
   "metadata": {},
   "source": [
    "## Question 7\n",
    "#### Define the gap statistic method. What do we use it for?"
   ]
  }
 ],
 "metadata": {
  "kernelspec": {
   "display_name": "R",
   "language": "R",
   "name": "ir"
  },
  "language_info": {
   "codemirror_mode": "r",
   "file_extension": ".r",
   "mimetype": "text/x-r-source",
   "name": "R",
   "pygments_lexer": "r",
   "version": "4.3.3"
  }
 },
 "nbformat": 4,
 "nbformat_minor": 5
}
