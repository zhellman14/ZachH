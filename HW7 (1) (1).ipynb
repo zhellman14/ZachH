{
  "metadata": {
    "kernelspec": {
      "display_name": "Python 3 (ipykernel)",
      "language": "python",
      "name": "python3"
    },
    "language_info": {
      "name": "python",
      "version": "3.10.18",
      "mimetype": "text/x-python",
      "codemirror_mode": {
        "name": "ipython",
        "version": 3
      },
      "pygments_lexer": "ipython3",
      "nbconvert_exporter": "python",
      "file_extension": ".py"
    },
    "colab": {
      "provenance": []
    }
  },
  "nbformat_minor": 5,
  "nbformat": 4,
  "cells": [
    {
      "id": "766a4c53-5596-4e39-9082-8e97c8e59c41",
      "cell_type": "markdown",
      "source": [
        "# Homework 7\n",
        "This homework is based on the advanced Git lectures."
      ],
      "metadata": {
        "id": "766a4c53-5596-4e39-9082-8e97c8e59c41"
      }
    },
    {
      "id": "bbb6e943-d49a-4d2e-81f3-59c2d1a3be31",
      "cell_type": "markdown",
      "source": [
        "## Question 1\n",
        "#### What is the holy trinity of Git? (Just name the parts.)"
      ],
      "metadata": {
        "id": "bbb6e943-d49a-4d2e-81f3-59c2d1a3be31"
      }
    },
    {
      "cell_type": "markdown",
      "source": [
        "The tree, the head, and the stage"
      ],
      "metadata": {
        "id": "y2cUW_Tv_870"
      },
      "id": "y2cUW_Tv_870"
    },
    {
      "id": "47bc27c0-290e-4e94-a071-a37ff613a7c8",
      "cell_type": "markdown",
      "source": [
        "## Question 2\n",
        "#### Explain how patches relate to the idea of committing a change to the history of your code?"
      ],
      "metadata": {
        "id": "47bc27c0-290e-4e94-a071-a37ff613a7c8"
      }
    },
    {
      "cell_type": "markdown",
      "source": [
        "It serves to model your source code by taking the diff and transforming the first file into the second file. By committing the patch, you record that change into the repository’s history as a new commit. Basically a save and continue."
      ],
      "metadata": {
        "id": "GPYxJL0b_98s"
      },
      "id": "GPYxJL0b_98s"
    },
    {
      "id": "9aa99e0b-8fbe-4ccc-a728-b39b1fda153c",
      "cell_type": "markdown",
      "source": [
        "## Question 3\n",
        "#### What is the difference between a branch and a fork?"
      ],
      "metadata": {
        "id": "9aa99e0b-8fbe-4ccc-a728-b39b1fda153c"
      }
    },
    {
      "cell_type": "markdown",
      "source": [
        "\n",
        "A branch is the history of your code, or alternatively, a linear series of commits. A branch just points to a commit. A fork is a copy of a repository that is permanently separate from the original (different from a branch, as a branch is temporary and part of the same repository)."
      ],
      "metadata": {
        "id": "Y6pFxdcyACAS"
      },
      "id": "Y6pFxdcyACAS"
    },
    {
      "id": "c6ac98c7-e4ea-4274-a88d-398cb739fab9",
      "cell_type": "markdown",
      "source": [
        "## Question 4\n",
        "#### How are diff and patch related? What’s the difference?"
      ],
      "metadata": {
        "id": "c6ac98c7-e4ea-4274-a88d-398cb739fab9"
      }
    },
    {
      "cell_type": "markdown",
      "source": [
        "A diff is essentially a commit which compares the previous state of the repository to the next state of the repository. A patch is a seperate file of that diff/commit intended to be applied to another tree. You produce diffs and apply patches."
      ],
      "metadata": {
        "id": "HlxB9qtQAFo8"
      },
      "id": "HlxB9qtQAFo8"
    },
    {
      "id": "02988321-54d5-4086-a62f-d6f7a5961c22",
      "cell_type": "markdown",
      "source": [
        "## Question 5\n",
        "#### See the diagram below.\n",
        "```\n",
        "alice            *-*-*-*-d-e     \n",
        "bob              *-*-*-*-a-b-c\n",
        "origin/main      *-*-*-*-a-b-c\n",
        "```\n",
        "#### a) What part of the Git trininty does each line represent?\n",
        "\n",
        "Each line represents the history of the code up until a certain moment, also called the head.\n",
        "\n",
        "#### b) What would the result be if Alice performed a rebase? Edit the diagram. What would she type in the terminal to rebase, then push?\n",
        "\n",
        "This will temporarily hide d & e and get abc from the remote branch, then add d & e on top. She should type in \"git rebase origin/main\" then \"git push origin alice\"\n",
        "\n",
        "alice ----a-b-c-d'-e'\n",
        "\n",
        "bob ----a-b-c\n",
        "\n",
        "origin/main ----a-b-c\n",
        "\n",
        "#### c) What would the result be if Alice performed a merge? Edit the diagram. What would she type in the terminal to merge, then push?\n",
        "\n",
        "A merge will combine the two histories and add a new merge commit. \"Git merge origin/main\". Then, \"git push origin alice\"\n",
        "\n",
        "alice ----d-e-a'-b'-c'\n",
        "\n",
        "bob ----a'-b'-c'\n",
        "\n",
        "origin/main ----d-e-a'-b'-c'\n",
        "\n",
        "\n",
        "#### d) Which would be the better option (rebase vs. merge)? Why?\n",
        "\n",
        "A rebase should be performed here because we're not taking commits from somewhere else and integrating them which would clutter the commits, but for the purpose of going back and putting the two together. This creates a straightforward history."
      ],
      "metadata": {
        "id": "02988321-54d5-4086-a62f-d6f7a5961c22"
      }
    },
    {
      "id": "65b5eb8a-cee0-4a97-b89c-8746c37669ea",
      "cell_type": "markdown",
      "source": [
        "## Question 6\n",
        "#### Match the command/vocab word to the description.\n",
        "You can edit the table!\n",
        "\n",
        "| Command / Vocab     | Answer | Description |\n",
        "|---------------------|------------|------------|\n",
        "| git stash          | B | A.  Gives project history |\n",
        "| git push           | J | B.  Takes any changes that haven't been committed and puts them in a dust bin |\n",
        "| git clone          | N | C.  Shows who last modified each line of a file and in which commit |\n",
        "| git commit         | M | D.  Retrieves any commits on the remote branch that you don’t yet have locally and integrates them into your current branch |\n",
        "| git log            | A | E.  Moves something from the branch to the working copy |\n",
        "| git add -i         | K | F.  Lists which files are staged, unstaged, and untracked |\n",
        "| git rebase         | P | G.  Displays information about a specific commit |\n",
        "| git init           | Q | H.  Combines two branches together in a way that is not ideal for your collaborators |\n",
        "| git checkout       | E | I.  Adds changes from the working directory to the staging area |\n",
        "| git status         | F | J.  Pushes the new commits to the main branch |\n",
        "| git diff           | O | K.  Interactive staging! |\n",
        "| git merge          | H | L.  Text file that contains names of files Git should not track |\n",
        "| git add            | I | M.  Saves file changes to the main branch |\n",
        "| git pull           | D | N.  Makes a copy of an existing repo at in a new directory at another location |\n",
        "| git show           | G | O.  Compares current, unsaved changes to the main branch |\n",
        "| git blame          | C | P.  Combines branches by moving commits onto the tip of another branch, creating a linear history |\n",
        "| .gitignore         | L | Q. Creates a new git repository |"
      ],
      "metadata": {
        "id": "65b5eb8a-cee0-4a97-b89c-8746c37669ea"
      }
    },
    {
      "id": "36663f18-7e8a-4400-86ef-1cbda6b508c1",
      "cell_type": "markdown",
      "source": [
        "## Question 7\n",
        "#### Walk me through how you would do interactive staging.\n",
        "#### a) Firstly, what situation would interactive staging be useful in?\n",
        "\n",
        "Interactive staging lets you carefully construct a series of commits, which is useful, because it allows you to not have to stop every couple lines of code to make a commit. It may be useful when a file has multiple unrelated changes and you only want to commit a couple of them.\n",
        "\n",
        "\n",
        "#### b) What command(s) help you prepare for what you'll see while interactive staging?\n",
        "*Hint*: Check the TA notes.\n",
        "\n",
        "First, look at \"git status\" and then \"git diff\" to see the file changes.\n",
        "\n",
        "\n",
        "#### b) What git command would you use to start interactive staging?\n",
        "\n",
        "\"git add -i\"\n",
        "\n",
        "#### c) On the text-based interactive menu, what option do you use?\n",
        "\n",
        "p for patch\n",
        "\n",
        "#### d) After pressing that option, how do you select the file you want to stage?\n",
        "\n",
        "We type the number of the file you want to stage.\n",
        "\n",
        "\n",
        "#### e) What option do you type if you do not want to stage a hunk?\n",
        "\n",
        "Type \"n\" for no\n",
        "\n",
        "#### f) Once you get to a hunk you want to stage, what do you do?\n",
        "\n",
        "Type \"y\"\n",
        "\n",
        "#### g) What if we have more hunks we want to stage?\n",
        "\n",
        "We can start over and answer prompts for each hunk.\n"
      ],
      "metadata": {
        "id": "36663f18-7e8a-4400-86ef-1cbda6b508c1"
      }
    }
  ]
}